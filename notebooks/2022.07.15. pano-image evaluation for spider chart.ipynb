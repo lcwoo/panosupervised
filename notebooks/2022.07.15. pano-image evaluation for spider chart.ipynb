{
 "cells": [
  {
   "cell_type": "markdown",
   "id": "e100ed82",
   "metadata": {},
   "source": [
    "## Jul 15, 2022\n",
    "\n",
    "# Enhance image-depth GT / pano-depth GT\n",
    "\n",
    "### Image-depth GT\n",
    "- Add PanoDepth visibility mask \n",
    "- Add yaw angles per points\n",
    "\n",
    "### Pano-depth GT\n",
    "- Add yaw angles per points"
   ]
  },
  {
   "cell_type": "code",
   "execution_count": null,
   "id": "394fd353",
   "metadata": {},
   "outputs": [],
   "source": [
    "%load_ext autoreload\n",
    "%autoreload 2\n",
    "\n",
    "import copy\n",
    "import os\n",
    "import torch\n",
    "import numpy as np\n",
    "import pythreejs as pjs\n",
    "import warnings\n",
    "warnings.filterwarnings('ignore')\n",
    "\n",
    "from matplotlib.cm import get_cmap\n",
    "from tqdm.notebook import tqdm\n",
    "from PIL import Image\n",
    "from IPython.core.display import display\n",
    "\n",
    "os.chdir('..')\n",
    "np.set_printoptions(precision=4)\n",
    "!pwd"
   ]
  },
  {
   "cell_type": "markdown",
   "id": "0da3247e",
   "metadata": {},
   "source": [
    "# Load batch"
   ]
  },
  {
   "cell_type": "code",
   "execution_count": null,
   "id": "eb26d658",
   "metadata": {},
   "outputs": [],
   "source": [
    "from vidar.utils.config import read_config\n",
    "\n",
    "config = read_config('configs/papers/panodepth/train_ddad.yaml')\n",
    "\n",
    "# Resize depth for easy debugging\n",
    "# config.datasets.train.augmentation.resize_supervision = True\n",
    "# config.datasets.train.dataloader.num_workers = 0\n",
    "config.datasets.validation.labels += ['lidar']\n",
    "config.datasets.validation.dataloader.batch_size = 1\n",
    "config.datasets.validation.dataloader.num_workers = 0"
   ]
  },
  {
   "cell_type": "code",
   "execution_count": null,
   "id": "ae71d0d6",
   "metadata": {},
   "outputs": [],
   "source": [
    "from vidar.utils.setup import setup_dataset, setup_dataloader\n",
    "\n",
    "# dataset = setup_dataset(config.datasets.train, verbose=True)\n",
    "# dataloader = setup_dataloader(dataset, config.datasets.train.dataloader, 'train')\n",
    "\n",
    "dataset = setup_dataset(config.datasets.validation, verbose=True)\n",
    "dataloader = setup_dataloader(dataset, config.datasets.validation.dataloader, 'val')"
   ]
  },
  {
   "cell_type": "code",
   "execution_count": null,
   "id": "9690adb1",
   "metadata": {},
   "outputs": [],
   "source": [
    "batch_from_loader = next(iter(dataloader[0]))\n",
    "batch_from_loader.keys()"
   ]
  },
  {
   "cell_type": "markdown",
   "id": "5311df63",
   "metadata": {},
   "source": [
    "## Utilities"
   ]
  },
  {
   "cell_type": "code",
   "execution_count": null,
   "id": "bc20c48b",
   "metadata": {},
   "outputs": [],
   "source": [
    "def to_numpy(tensor):\n",
    "    return tensor.permute(1, 2, 0).numpy()\n",
    "\n",
    "def to_uint8(array):\n",
    "    return (array * 255.0).astype(np.uint8)"
   ]
  },
  {
   "cell_type": "code",
   "execution_count": null,
   "id": "1c951a45",
   "metadata": {},
   "outputs": [],
   "source": [
    "import pythreejs as pjs\n",
    "\n",
    "def visualize_3d(xyz, rgb=None, size=0.03, height=480, width=480):\n",
    "    points_buf = pjs.BufferAttribute(array=xyz)\n",
    "    geometryAttrs = {'position': points_buf}\n",
    "\n",
    "    if rgb is not None:\n",
    "        colors_buf = pjs.BufferAttribute(array=rgb)\n",
    "        geometryAttrs['color'] = colors_buf\n",
    "    \n",
    "    geometry = pjs.BufferGeometry(attributes=geometryAttrs)\n",
    "\n",
    "    material = pjs.PointsMaterial(vertexColors='VertexColors', size=size)\n",
    "    pointCloud = pjs.Points(geometry=geometry, material=material)\n",
    "\n",
    "    pythreejs_camera = pjs.PerspectiveCamera(    \n",
    "        up=[1, 0, 1],\n",
    "        children=[pjs.DirectionalLight(color='white', intensity=0.5)])\n",
    "\n",
    "    pythreejs_camera.rotateX(np.pi/4)\n",
    "    pythreejs_camera.position = (-15., 0., 30.)\n",
    "\n",
    "    scene = pjs.Scene(children=[\n",
    "                    pointCloud,\n",
    "                    pythreejs_camera,\n",
    "                    pjs.AmbientLight(color='#777777')])\n",
    "    \n",
    "    axes = pjs.AxesHelper(size=3)\n",
    "    scene.add(axes)\n",
    "        \n",
    "    control = pjs.OrbitControls(controlling=pythreejs_camera)\n",
    "    renderer = pjs.Renderer(camera=pythreejs_camera, \n",
    "                        scene=scene, \n",
    "                        width=width,\n",
    "                        height=height,\n",
    "                        preserveDrawingBuffer=True,\n",
    "                        controls=[control])\n",
    "    \n",
    "    return renderer"
   ]
  },
  {
   "cell_type": "markdown",
   "id": "3c9f6428",
   "metadata": {},
   "source": [
    "# Calculate yaw angles (image-depth)"
   ]
  },
  {
   "cell_type": "code",
   "execution_count": null,
   "id": "e3ac1d6c",
   "metadata": {},
   "outputs": [],
   "source": []
  },
  {
   "cell_type": "markdown",
   "id": "2d6d1e3e",
   "metadata": {},
   "source": [
    "# Calculate yaw angles (pano-depth)"
   ]
  },
  {
   "cell_type": "code",
   "execution_count": null,
   "id": "62a127fb",
   "metadata": {},
   "outputs": [],
   "source": []
  }
 ],
 "metadata": {
  "kernelspec": {
   "display_name": "Python 3",
   "language": "python",
   "name": "python3"
  },
  "language_info": {
   "codemirror_mode": {
    "name": "ipython",
    "version": 3
   },
   "file_extension": ".py",
   "mimetype": "text/x-python",
   "name": "python",
   "nbconvert_exporter": "python",
   "pygments_lexer": "ipython3",
   "version": "3.6.9"
  }
 },
 "nbformat": 4,
 "nbformat_minor": 5
}
