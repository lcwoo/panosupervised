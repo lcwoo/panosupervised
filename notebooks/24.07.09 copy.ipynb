{
 "cells": [
  {
   "cell_type": "code",
   "execution_count": 1,
   "metadata": {},
   "outputs": [
    {
     "name": "stdout",
     "output_type": "stream",
     "text": [
      "/home/lcw/workspace/panosupervised\n"
     ]
    }
   ],
   "source": [
    "%load_ext autoreload\n",
    "%autoreload 2\n",
    "\n",
    "import copy\n",
    "import os\n",
    "import torch\n",
    "import numpy as np\n",
    "import pythreejs as pjs\n",
    "import warnings\n",
    "warnings.filterwarnings('ignore')\n",
    "\n",
    "from matplotlib.cm import get_cmap\n",
    "from tqdm.notebook import tqdm\n",
    "from PIL import Image\n",
    "from IPython.core.display import display\n",
    "\n",
    "os.chdir('..')\n",
    "np.set_printoptions(precision=4)\n",
    "!pwd"
   ]
  },
  {
   "cell_type": "code",
   "execution_count": 16,
   "metadata": {},
   "outputs": [],
   "source": [
    "import numpy as np\n",
    "import os\n",
    "import torch\n",
    "import cv2\n",
    "from PIL import Image\n",
    "from struct import pack, unpack\n",
    "\n",
    "from vidar.datasets.augmentations.resize import resize_npy_preserve\n",
    "from vidar.geometry.camera_pano import PanoCamera\n",
    "from vidar.geometry.camera import Camera\n",
    "from vidar.datasets.OuroborosDataset import load_from_file, save_to_file, generate_proj_maps\n",
    "from vidar.datasets.OuroborosDataset import OuroborosDataset\n",
    "from vidar.datasets.utils.misc import stack_sample\n",
    "from vidar.datasets.utils.transforms import get_transforms\n",
    "from vidar.utils.config import Config\n",
    "from vidar.utils.viz import viz_depth\n",
    "PANO_CAMERA_NAME = 'camera_pano'"
   ]
  },
  {
   "cell_type": "code",
   "execution_count": 13,
   "metadata": {},
   "outputs": [],
   "source": [
    "height, width = (384, 640)\n",
    "height_pano, width_pano = (256, 2048)\n",
    "params = {\n",
    "    'name': 'PanoCamOuroboros',\n",
    "    'path': '/data/datasets/DDAD/ddad_train_val/ddad_overfit_000071.json',\n",
    "    # 'path': '/data/datasets/DDAD/ddad_train_val/ddad.json',\n",
    "    'split': 'train',\n",
    "    'context': [-1, 1],\n",
    "    'labels': ['depth', 'pose'],\n",
    "    'cameras': [1, 5, 6, 7, 8, 9],\n",
    "    'depth_type': 'lidar',\n",
    "    'repeat': 1,\n",
    "    'pano_cam_config': Config(**{\n",
    "        'name': 'panocam_150_z_-02_+02',\n",
    "        'height': height_pano,\n",
    "        'width': width_pano,\n",
    "        'position_in_world': [0, 0, 1.5],\n",
    "        'phi_range': [0, 6.2831853072],\n",
    "        'rho': 1.0,\n",
    "        'z_range': [-0.2, 0.2]}),\n",
    "    'data_transform':\n",
    "        get_transforms('train', Config(**{'resize': [height, width]})),\n",
    "}\n",
    "dataset = PanoCamOuroborosDataset(**params)\n",
    "print('# of frames: {}'.format(len(dataset)))\n",
    "data = dataset[83]"
   ]
  },
  {
   "cell_type": "code",
   "execution_count": null,
   "metadata": {},
   "outputs": [],
   "source": []
  }
 ],
 "metadata": {
  "kernelspec": {
   "display_name": "ddad",
   "language": "python",
   "name": "python3"
  },
  "language_info": {
   "codemirror_mode": {
    "name": "ipython",
    "version": 3
   },
   "file_extension": ".py",
   "mimetype": "text/x-python",
   "name": "python",
   "nbconvert_exporter": "python",
   "pygments_lexer": "ipython3",
   "version": "3.8.19"
  }
 },
 "nbformat": 4,
 "nbformat_minor": 2
}
